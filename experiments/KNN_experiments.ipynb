{
 "cells": [
  {
   "cell_type": "markdown",
   "metadata": {},
   "source": [
    "# Большое практическое задание 1\n",
    "# Классификация изображений цифр метрическими методами\n",
    "\n",
    "## курс \"Машинное обучение 1\", программа OzonMasters, 2021\n",
    "\n",
    "## Студент: <Коротаев Павел Дмитриевич>"
   ]
  },
  {
   "cell_type": "markdown",
   "metadata": {},
   "source": [
    "## Введение\n",
    "\n",
    "Данное задание направлено на ознакомление с метрическими алгоритмами классификации, а также методами работы с изображениями. В задании вам будет необходимо:\n",
    "\n",
    "1. Написать на языке Python собственные реализации метода ближайших соседей и кросс-валидации. Реализации должны соответствовать спецификации, описанной в прилагающихся модулях.     \n",
    "    Частично проверить правильность выполнения своих реализаций можно с помощью системы ejudge в соответствующем соревновании.\n",
    "    **Внимание.** Прохождение всех тестов в соревновании не гарантирует правильность решения.\n",
    "\n",
    "\n",
    "2. Провести описанные ниже эксперименты с датасетом изображений цифр MNIST, описать полученые результаты и ответить на предложенные вопросы.\n",
    "\n",
    "\n",
    "3. Подготовить отчёт о проделанной работе. Удалите черновые выводы, оставьте только тот код, который является ответом к пунктам задания. Сохраните ноутбук в форматах .ipynb и .html одновременно.\n",
    "\n",
    "    **Замечание.** Чтобы экспорировать jupyter notebook в .html нужно выбрать:\n",
    "    `File -> Download as -> HTML (.html).`\n",
    "    Для экспорта notebook в .html в Google Colab, воспользуйтесь [следующим кодом](https://gist.github.com/vbugaevskii/b9c6181f2ad83e11f5b9c92d315cb2de).\n",
    "Большая просьба: подписывайте свой отчет (в названии файла и внутри ноутбука).\n",
    "\n",
    "\n",
    "4. В систему проверки необходимо сдать отчёт в обоих форматах и .zip архив с написанными модулями.\n",
    "\n",
    "    Большая просьба: jupyter notebook и html файл не запаковывать в архив, а сдавать отдельно."
   ]
  },
  {
   "cell_type": "markdown",
   "metadata": {},
   "source": [
    "### Некоторые полезные советы\n",
    "\n",
    "1. Для того, чтобы не перезагружать jupyter notebook каждый раз после того, как вы внесли изменения в модуль `knn`, можно добавить ячейку с таким содержимым:\n",
    "     \n",
    "```\n",
    "    %load_ext autoreload\n",
    "    \n",
    "    %autoreload 2\n",
    "```\n",
    "   \n",
    "2. Не нужно копировать свой код из модулей в jupyter notebook, пользуйтесь им, как если бы это была библиотека. Для этого поместите директорию `knn` рядом с notebook-ом. Пример, как может выглядеть содержимое вашей рабочей директории:\n",
    "\n",
    "```\n",
    "    tree\n",
    "    ---knn\n",
    "    ------__init__.py\n",
    "    ------classification.py\n",
    "    ------distances.py\n",
    "    ------model_selection.py\n",
    "    ------nearest_neighbors.py\n",
    "    ---tests\n",
    "    ------__init__.py\n",
    "    ------test_classification.py\n",
    "    ------test_distances.py\n",
    "    ------test_model_selection.py\n",
    "    ------test_nearest_neigbours.py\n",
    "    experiments.ipynb\n",
    "```"
   ]
  },
  {
   "cell_type": "markdown",
   "metadata": {},
   "source": [
    "## Реализация алгоритмов (10 баллов)\n",
    "\n",
    "Прототипы функций должны строго соответствовать прототипам, описанным в спецификации и проходить\n",
    "все выданные тесты. Задание, не проходящее все выданные тесты, приравнивается к невыполненному. При\n",
    "написании **необходимо пользоваться** стандартными средствами языка Python и библиотекой numpy. Библиотеками scipy и scikit-learn пользоваться **запрещено**, если это не обговорено отдельно в пункте задания. Для\n",
    "экспериментов в бонусной части разрешается пользоваться любыми открытыми библиотеками, реализующими\n",
    "алгоритмы обработки изображений."
   ]
  },
  {
   "cell_type": "markdown",
   "metadata": {},
   "source": [
    "Среди предоставленных файлов должны быть следующие модули и функции в них\n",
    "\n",
    "1. Модуль `knn.distances` с реализацией функции для вычисления расстояния:\n",
    "    1. `euclidean_distance(X, Y)` — реализация евклидова расстояния с заданными свойствами;\n",
    "    2. `cosine_distance(X, Y)` — реализация косинусного расстояния с заданными свойствами;\n",
    "\n",
    "\n",
    "2. Модуль `knn.nearest_neighbors`, содержащий собственную реализацию поиска ближайших соседей.\n",
    "    \n",
    "    Класс `NearestNeighborsFinder` с методами:\n",
    "      1. `__init__(self, n_neighbors, metric=\"euclidean\")` — конструктор (инициализатор) класса;\n",
    "      2. `fit(self, X, y=None)` — обучение алгоритма;\n",
    "      3. `kneighbors(self, X, return_distance=False)` — поиск ближайших соседей.\n",
    "\n",
    "\n",
    "3. Модуль `knn.classification`, содержащий собственную реализацию классификатора на основе метода ближайших соседей.\n",
    "\n",
    "    Класс `KNNClassifier` с методами:\n",
    "    \n",
    "    1. `__init__(self, n_neighbors, algorithm=’my_own’, metric=’euclidean’, weights=’uniform’)` — конструктор (инициализатор) класса;\n",
    "    2. `fit(self, X, y=None)` — обучение алгоритма;\n",
    "    3. `kneighbors(self, X, return_distance=False)` — поиск ближайших соседей;\n",
    "    4. `predict(self, X)` — редсказание на новых данных;\n",
    "    5. `_predict_precomputed(self, indices, distances)` — вспомогательный метод.\n",
    "    \n",
    "   Класс `BatchedKNNClassifier`, полезный для работы с большими выборками, с методами:\n",
    "   \n",
    "    1. `__init__(self, n_neighbors, algorithm=’my_own’, metric=’euclidean’, weights=’uniform’, batch_size=None)` — конструктор (инициализатор) класса\n",
    "    2. `kneighbors(self, X, return_distance=False)` — поиск ближайших соседей, разбитый на несколько итераций по батчам\n",
    "    3. `set_batch_size(self, batch_size)` — метод для выставления нового значения размера батча\n",
    "\n",
    "\n",
    "4. Модуль `knn.model_selection` с реализациями функций для применения кросс-валидации:\n",
    "\n",
    "    1. `knn_cross_val_score(X, y, k_list, scoring, cv=None, **kwargs)` — функция для измерения качества на кросс-валидации."
   ]
  },
  {
   "cell_type": "markdown",
   "metadata": {},
   "source": [
    "Ожидается, что реализациия всех классов и функций будет максимально эффективной. Дополнительно вам предоставлены открытые unit-тесты, которые находятся рядом с модулем `knn` в директории `tests` Чтобы запустить тесты в консоли требуется выполнить одну из команд:\n",
    "\n",
    "\n",
    "```\n",
    "$ python -m unittest                            # запуск всех тестов\n",
    "$ python -m unittest tests/test_distances.py    # запуск конкретных тестов\n",
    "```"
   ]
  },
  {
   "cell_type": "markdown",
   "metadata": {},
   "source": [
    "## Эксперименты (15 баллов)\n",
    "\n",
    "Здесь вы можете заимпортировать всё, что вам потребуется для экспериментов:"
   ]
  },
  {
   "cell_type": "code",
   "execution_count": 1,
   "metadata": {},
   "outputs": [],
   "source": [
    "import numpy as np"
   ]
  },
  {
   "cell_type": "code",
   "execution_count": 1,
   "metadata": {
    "scrolled": true
   },
   "outputs": [
    {
     "name": "stderr",
     "output_type": "stream",
     "text": [
      "In /home/pavel/anaconda3/lib/python3.7/site-packages/matplotlib/mpl-data/stylelib/_classic_test.mplstyle: \n",
      "The text.latex.preview rcparam was deprecated in Matplotlib 3.3 and will be removed two minor releases later.\n",
      "In /home/pavel/anaconda3/lib/python3.7/site-packages/matplotlib/mpl-data/stylelib/_classic_test.mplstyle: \n",
      "The mathtext.fallback_to_cm rcparam was deprecated in Matplotlib 3.3 and will be removed two minor releases later.\n",
      "In /home/pavel/anaconda3/lib/python3.7/site-packages/matplotlib/mpl-data/stylelib/_classic_test.mplstyle: Support for setting the 'mathtext.fallback_to_cm' rcParam is deprecated since 3.3 and will be removed two minor releases later; use 'mathtext.fallback : 'cm' instead.\n",
      "In /home/pavel/anaconda3/lib/python3.7/site-packages/matplotlib/mpl-data/stylelib/_classic_test.mplstyle: \n",
      "The validate_bool_maybe_none function was deprecated in Matplotlib 3.3 and will be removed two minor releases later.\n",
      "In /home/pavel/anaconda3/lib/python3.7/site-packages/matplotlib/mpl-data/stylelib/_classic_test.mplstyle: \n",
      "The savefig.jpeg_quality rcparam was deprecated in Matplotlib 3.3 and will be removed two minor releases later.\n",
      "In /home/pavel/anaconda3/lib/python3.7/site-packages/matplotlib/mpl-data/stylelib/_classic_test.mplstyle: \n",
      "The keymap.all_axes rcparam was deprecated in Matplotlib 3.3 and will be removed two minor releases later.\n",
      "In /home/pavel/anaconda3/lib/python3.7/site-packages/matplotlib/mpl-data/stylelib/_classic_test.mplstyle: \n",
      "The animation.avconv_path rcparam was deprecated in Matplotlib 3.3 and will be removed two minor releases later.\n",
      "In /home/pavel/anaconda3/lib/python3.7/site-packages/matplotlib/mpl-data/stylelib/_classic_test.mplstyle: \n",
      "The animation.avconv_args rcparam was deprecated in Matplotlib 3.3 and will be removed two minor releases later.\n"
     ]
    }
   ],
   "source": [
    "import numpy as np\n",
    "import matplotlib.pyplot as plt\n",
    "\n",
    "from knn.distances import euclidean_distance, cosine_distance \n",
    "from knn.classification import BatchedKNNClassifier\n",
    "from knn.model_selection import knn_cross_val_score"
   ]
  },
  {
   "cell_type": "markdown",
   "metadata": {},
   "source": [
    "### 1. Загрузка даннных\n",
    "\n",
    "Эксперименты этого задания необходимо проводить на датасете MNIST. Загрузить датасет можно при помощи функции `sklearn.datasets.fetch_openml(\"mnist_784\")` или скачать вручную с сайта\n",
    "http://yann.lecun.com/exdb/mnist/. Датасет необходимо разбить на обучающую выборку (первые 60 тыс.\n",
    "объектов) и тестовую выборку (10 тыс. последних объектов)."
   ]
  },
  {
   "cell_type": "code",
   "execution_count": 2,
   "metadata": {},
   "outputs": [],
   "source": [
    "from sklearn.datasets import fetch_openml"
   ]
  },
  {
   "cell_type": "code",
   "execution_count": 3,
   "metadata": {},
   "outputs": [],
   "source": [
    "X, y = fetch_openml('mnist_784', version=1, return_X_y=True)\n"
   ]
  },
  {
   "cell_type": "code",
   "execution_count": 4,
   "metadata": {},
   "outputs": [],
   "source": [
    "X_train, y_train  = X[:60000], y[:60000]"
   ]
  },
  {
   "cell_type": "code",
   "execution_count": 5,
   "metadata": {},
   "outputs": [],
   "source": [
    "X_test, y_test = X[60000:], y[60000:]"
   ]
  },
  {
   "cell_type": "code",
   "execution_count": 6,
   "metadata": {},
   "outputs": [],
   "source": [
    "X_test = X_test.to_numpy()\n",
    "y_test = y_test.to_numpy()\n",
    "X_train = X_train.to_numpy()\n",
    "y_train = y_train.to_numpy()"
   ]
  },
  {
   "cell_type": "code",
   "execution_count": 7,
   "metadata": {},
   "outputs": [],
   "source": [
    "X_test = X_test.astype('int64')\n",
    "y_test = y_test.astype('int64')\n",
    "X_train = X_train.astype('int64')\n",
    "y_train = y_train.astype('int64')"
   ]
  },
  {
   "cell_type": "markdown",
   "metadata": {},
   "source": [
    "### 2. Исследование скорости методов поиска (4 балла)\n",
    "\n",
    "Исследуйте, какой алгоритм поиска ближайших соседей будет быстрее работать в различных ситуациях.\n",
    "\n",
    "Измерьте для каждого алгоритма поиска (`kd_tree`, `ball_tree`, `brute` и `my_own`) время нахождения 5 ближайших соседей для каждого объекта тестовой выборки по евклидовой метрике. Выберите подмножество признаков, по которому будет считаться расстояние, размера 10, 20, 100 (подмножество признаков выбирается один раз для всех объектов, случайно).\n",
    "\n",
    "**Замечание.** Для оценки времени долго работающих функций можно пользоваться либо функциями из\n",
    "модуля time, либо magic-командой %time, которая запускает код лишь один раз."
   ]
  },
  {
   "cell_type": "code",
   "execution_count": 10,
   "metadata": {},
   "outputs": [],
   "source": [
    "clf_myOwn = BatchedKNNClassifier(5, algorithm = 'my_own', metric = 'euclidean', batch_size = 250)\n",
    "clf_BallTree = BatchedKNNClassifier(5, algorithm = 'ball_tree', metric = 'euclidean', batch_size = 250)\n",
    "clf_Brute = BatchedKNNClassifier(5, algorithm = 'brute', metric = 'euclidean', batch_size = 250)\n",
    "clf_kdTree = BatchedKNNClassifier(5, algorithm = 'kd_tree', metric = 'euclidean', batch_size = 250)"
   ]
  },
  {
   "cell_type": "code",
   "execution_count": 11,
   "metadata": {},
   "outputs": [],
   "source": [
    "time_MyOwn = []\n",
    "time_BallTree = []\n",
    "time_Brute = []\n",
    "time_kdTree = []"
   ]
  },
  {
   "cell_type": "code",
   "execution_count": null,
   "metadata": {},
   "outputs": [],
   "source": [
    "import random                      \n",
    "idx = random.sample(range(1, 784), 10)\n",
    "idx.sort()\n",
    "X_train_new = X_train[:,idx]\n",
    "X_test_new = X_test[:,idx]\n",
    "print(idx)"
   ]
  },
  {
   "cell_type": "code",
   "execution_count": 13,
   "metadata": {},
   "outputs": [],
   "source": [
    "clf_myOwn.fit(X_train_new, y_train)                                                                           \n",
    "t =  %timeit -o -q -r 1 clf_myOwn.kneighbors(X_test_new)\n",
    "time_MyOwn.append(t.best)"
   ]
  },
  {
   "cell_type": "code",
   "execution_count": 14,
   "metadata": {},
   "outputs": [],
   "source": [
    "clf_BallTree.fit(X_train_new, y_train)\n",
    "t =  %timeit -o -q -r 1 clf_BallTree.kneighbors(X_test_new)\n",
    "time_BallTree.append(t.best)"
   ]
  },
  {
   "cell_type": "code",
   "execution_count": 15,
   "metadata": {},
   "outputs": [],
   "source": [
    "clf_Brute.fit(X_train_new, y_train)\n",
    "t =  %timeit -o -q -r 1 clf_Brute.kneighbors(X_test_new)\n",
    "time_Brute.append(t.best)"
   ]
  },
  {
   "cell_type": "code",
   "execution_count": 16,
   "metadata": {},
   "outputs": [],
   "source": [
    "clf_kdTree.fit(X_train_new, y_train)\n",
    "t =  %timeit -o -q -r 1 clf_kdTree.kneighbors(X_test_new)\n",
    "time_kdTree.append(t.best)"
   ]
  },
  {
   "cell_type": "code",
   "execution_count": null,
   "metadata": {},
   "outputs": [],
   "source": [
    "idx = random.sample(range(1, 784), 20)\n",
    "idx.sort()\n",
    "X_train_new = X_train[:,idx]\n",
    "X_test_new = X_test[:,idx]\n",
    "print(idx)"
   ]
  },
  {
   "cell_type": "code",
   "execution_count": 18,
   "metadata": {},
   "outputs": [],
   "source": [
    "clf_myOwn.fit(X_train_new, y_train)\n",
    "t =  %timeit -o -q -r 1 clf_myOwn.kneighbors(X_test_new)\n",
    "time_MyOwn.append(t.best)"
   ]
  },
  {
   "cell_type": "code",
   "execution_count": 19,
   "metadata": {},
   "outputs": [],
   "source": [
    "clf_BallTree.fit(X_train_new, y_train)\n",
    "t =  %timeit -o -q -r 1 clf_BallTree.kneighbors(X_test_new)\n",
    "time_BallTree.append(t.best)"
   ]
  },
  {
   "cell_type": "code",
   "execution_count": 20,
   "metadata": {},
   "outputs": [],
   "source": [
    "clf_Brute.fit(X_train_new, y_train)\n",
    "t =  %timeit -o -q -r 1 clf_Brute.kneighbors(X_test_new)\n",
    "time_Brute.append(t.best)"
   ]
  },
  {
   "cell_type": "code",
   "execution_count": 21,
   "metadata": {},
   "outputs": [],
   "source": [
    "clf_kdTree.fit(X_train_new, y_train)\n",
    "t =  %timeit -o -q -r 1 clf_kdTree.kneighbors(X_test_new)\n",
    "time_kdTree.append(t.best)"
   ]
  },
  {
   "cell_type": "code",
   "execution_count": null,
   "metadata": {},
   "outputs": [],
   "source": [
    "idx = random.sample(range(1, 784), 100)\n",
    "idx.sort()\n",
    "X_train_new = X_train[:,idx]\n",
    "X_test_new = X_test[:,idx]\n",
    "print(idx)"
   ]
  },
  {
   "cell_type": "code",
   "execution_count": 23,
   "metadata": {},
   "outputs": [],
   "source": [
    "clf_myOwn.fit(X_train_new, y_train)\n",
    "t =  %timeit -o -q -r 1 clf_myOwn.kneighbors(X_test_new)\n",
    "time_MyOwn.append(t.best)"
   ]
  },
  {
   "cell_type": "code",
   "execution_count": 24,
   "metadata": {},
   "outputs": [],
   "source": [
    "clf_BallTree.fit(X_train_new, y_train)\n",
    "t =  %timeit -o -q -r 1 clf_BallTree.kneighbors(X_test_new)\n",
    "time_BallTree.append(t.best)"
   ]
  },
  {
   "cell_type": "code",
   "execution_count": 25,
   "metadata": {},
   "outputs": [],
   "source": [
    "clf_Brute.fit(X_train_new, y_train)\n",
    "t =  %timeit -o -q -r 1 clf_Brute.kneighbors(X_test_new)\n",
    "time_Brute.append(t.best)"
   ]
  },
  {
   "cell_type": "code",
   "execution_count": 26,
   "metadata": {},
   "outputs": [],
   "source": [
    "clf_kdTree.fit(X_train_new, y_train)\n",
    "t =  %timeit -o -q -r 1 clf_kdTree.kneighbors(X_test_new)\n",
    "time_kdTree.append(t.best)"
   ]
  },
  {
   "cell_type": "markdown",
   "metadata": {},
   "source": [
    "#### Приведите график / таблицу с результатами вашего эксперимента"
   ]
  },
  {
   "cell_type": "code",
   "execution_count": 27,
   "metadata": {},
   "outputs": [
    {
     "data": {
      "image/png": "[encoded data removed]",
      "text/plain": [
       "<Figure size 432x288 with 1 Axes>"
      ]
     },
     "metadata": {
      "needs_background": "light"
     },
     "output_type": "display_data"
    }
   ],
   "source": [
    "import matplotlib.pyplot as plt\n",
    "%matplotlib inline\n",
    "\n",
    "plt.plot([10,20,100], time_MyOwn, label=\"My_Own\")\n",
    "plt.plot([10,20,100], time_BallTree, label=\"BallTree\")\n",
    "plt.plot([10,20,100], time_Brute, label=\"Brute\")\n",
    "plt.plot([10,20,100], time_kdTree, label=\"kdTree\")\n",
    "plt.legend(fontsize=20)\n",
    "plt.xlabel(\"# features\", fontsize=20)\n",
    "plt.ylabel(\"Time\", fontsize=20)\n",
    "plt.xscale(\"log\")\n",
    "plt.xticks(fontsize=18)\n",
    "_ = plt.yticks(fontsize=18)"
   ]
  },
  {
   "cell_type": "markdown",
   "metadata": {},
   "source": [
    "#### Ответьте на следующие вопросы"
   ]
  },
  {
   "cell_type": "markdown",
   "metadata": {},
   "source": [
    "1. Какой алгоритм сработал быстрее всего для каждого из размера подвыборок? Ожидали ли вы такие результаты до проведения эксперимента?\n",
    "\n",
    "    Честно, не ожидал, сработал быстрее всех Brute и MyOwn. Но, кажется, догадываюсь почему так случилось"
   ]
  },
  {
   "cell_type": "markdown",
   "metadata": {},
   "source": [
    "2. Приведите теоретическую сложность каждого из алгоритмов поиска. Согласуется ли время работы алгоритмов на практике с их теоретической вычислительной сложностью? Как вы думаете, почему?\n",
    "\n",
    "N - кол-во векторов в train\n",
    "K - кол-во ближайших соседей\n",
    "\n",
    "My Own:\n",
    "O(N + KLogK)\n",
    "Brute:\n",
    "O(N * K)\n",
    "k-d Tree:\n",
    "O(k * LogN)\n",
    "Ball Tree:\n",
    "O(k * LogN)\n",
    "Можно заметить, что у My Own и Brute вычислительная сложность более менее согласуется, а вот у остальных двух методов, нет. Хотя на 10 фичах BallTree и Kd-Tree работают быстрее чем Brute и MyOwn. Но после 100 они работают намного медленее, возможно это связано с тем, что kd-Tree и BallTree проводят предобработку выборки, в обоих случаях используются деревья, и из-за того, что пространство не 2-ух мерное, придется делать больше разбиений, что приведет к большому кол-ву листьев в деревьях, к тому же из-за  проклятья размерности, мы знаем, что большинство объектов будут сконцентированы на границах d-мерного шара (Теор ДЗ1). Это означает, что придется спускаться по дереву глубоко. Также это может быть связано с тем, что у обоих методов есть параметр leaf_size, которое изначально равен 40. leaf_size отвечат за количество точек, по достижению которого, алгоритмы будут использовать brute для нахождения ближайших соседей, что влияет на время работы. Это связано с тем, что алгоритмам может не хватить памяти для хранения деревьев и чтобы этого не происходило они переключаются на brute "
   ]
  },
  {
   "cell_type": "markdown",
   "metadata": {},
   "source": [
    "3. Какой алгоритм исходя из результатов эксперимента следует использовать в дальнейшем? Выберите алгоритм поиска соседей, который вы будете использовать во всех экспериментах ниже. \n",
    "\n",
    "    Исходя из результатов эксперимента следует использовать либо Brute, либо My_Own. Хотелось бы протестировать свой класс, поэтому выбираю My_Own"
   ]
  },
  {
   "cell_type": "markdown",
   "metadata": {},
   "source": [
    "### 3. Исследование зависимости точности алгоритма на кросс-валидации (4 балла)\n",
    "\n",
    "\n",
    "Оцените по кросс-валидации с 3 фолдами точность (долю правильно предсказанных ответов) алгоритма k ближайших соседей в зависимости от следующих факторов:\n",
    "* количество соседей k от 1 до 10\n",
    "* используется евклидова или косинусная метрика"
   ]
  },
  {
   "cell_type": "code",
   "execution_count": 12,
   "metadata": {},
   "outputs": [],
   "source": [
    "from sklearn.model_selection import KFold, BaseCrossValidator\n",
    "\n",
    "cv = KFold(n_splits=3)"
   ]
  },
  {
   "cell_type": "code",
   "execution_count": null,
   "metadata": {
    "scrolled": true
   },
   "outputs": [],
   "source": [
    "\n",
    "predicted = knn_cross_val_score(X_train, y_train, k_list=np.arange(1,11), cv=cv, scoring='accuracy',\n",
    "            metric='euclidean', weights='uniform', algorithm='my_own',batch_size = 1000)\n"
   ]
  },
  {
   "cell_type": "code",
   "execution_count": null,
   "metadata": {
    "scrolled": true
   },
   "outputs": [],
   "source": [
    "predicted2 = knn_cross_val_score(X_train, y_train, k_list=np.arange(1,11), cv=cv, scoring='accuracy',\n",
    "            metric='cosine', weights='uniform', algorithm='my_own',batch_size = 1000)"
   ]
  },
  {
   "cell_type": "markdown",
   "metadata": {},
   "source": [
    "#### Нарисуйте график зависимости точности от количества соседей по каждой метрике"
   ]
  },
  {
   "cell_type": "code",
   "execution_count": 26,
   "metadata": {},
   "outputs": [
    {
     "data": {
      "image/png": "[encoded data removed]",
      "text/plain": [
       "<Figure size 432x288 with 1 Axes>"
      ]
     },
     "metadata": {
      "needs_background": "light"
     },
     "output_type": "display_data"
    }
   ],
   "source": [
    "import matplotlib.pyplot as plt\n",
    "%matplotlib inline\n",
    "mean_socre = [] \n",
    "for k in np.arange(1,11):\n",
    "    mean_socre.append(np.mean(predicted[k]))\n",
    "\n",
    "    \n",
    "plt.plot(np.arange(1,11), mean_socre, label=\"Scores on euclidean\")\n",
    "plt.legend(fontsize=20)\n",
    "plt.xlabel(\"# neiboughrs\", fontsize=20)\n",
    "plt.ylabel(\"score\", fontsize=20)\n",
    "plt.xticks(fontsize=18)\n",
    "_ = plt.yticks(fontsize=18)"
   ]
  },
  {
   "cell_type": "code",
   "execution_count": 14,
   "metadata": {},
   "outputs": [
    {
     "data": {
      "image/png": "[encoded data removed]",
      "text/plain": [
       "<Figure size 432x288 with 1 Axes>"
      ]
     },
     "metadata": {
      "needs_background": "light"
     },
     "output_type": "display_data"
    }
   ],
   "source": [
    "import matplotlib.pyplot as plt\n",
    "%matplotlib inline\n",
    "mean_socre = [] \n",
    "for k in np.arange(1,11):\n",
    "    mean_socre.append(np.mean(predicted2[k]))\n",
    "\n",
    "    \n",
    "plt.plot(np.arange(1,11), mean_socre, label=\"Scores on cosine\")\n",
    "plt.legend(fontsize=20)\n",
    "plt.xlabel(\"# neiboughrs\", fontsize=20)\n",
    "plt.ylabel(\"score\", fontsize=20)\n",
    "plt.xticks(fontsize=18)\n",
    "_ = plt.yticks(fontsize=18)"
   ]
  },
  {
   "cell_type": "markdown",
   "metadata": {},
   "source": [
    "#### Ответьте на следующие вопросы"
   ]
  },
  {
   "cell_type": "markdown",
   "metadata": {},
   "source": [
    "1. По результатам эксперимента, какие гиперпараметры вы считаете наиболее оптимальными? Обоснуйте свой выбор (например, если у вас несколько наборов параметров с высоким качеством, обоснуйте как вы выберите среди этих наборов один).\n",
    "\n",
    "   Лучшие скоры получаются у обоих метрик на k = 3, а далее точность у обоих метрик падает. Поэтому  k = 3 наиболее оптимален\n",
    "\n",
    "\n",
    "2. Какая метрика лучше себя показала в экспериментах? Можете ли вы объяснить, почему?\n",
    "\n",
    "    Лучше показала себя метрика cosine. Возможно это связано с тем, что пр-во объектов это сильно разряженные вектора, поэтому евклидова метрика, которая сильно полагается на значение в каждой компоненте, работает хуже, чем косинусное метрика, которая смотрит на угол между векторами.\n",
    "    \n",
    "   \n",
    "2. Есть ли на графике зависимости точности от количество соседей \"выбросы\", резкие падения/повышения качества для одного значения k по сравнению с соседними? Если да, предположите причину появления этих выбросов.\n",
    "\n",
    "    Резкое падение скора на обоих графиках происходит при k = 2, скорее всего это связано, с тем, что алгоритм predict реализован так, что при равном кол-ве меток, он берет меньшую."
   ]
  },
  {
   "cell_type": "markdown",
   "metadata": {},
   "source": [
    "### 3. Исследование зависимости точности взвешенного алгоритма на кросс-валидации (4 балла)\n",
    "\n",
    "По результатам предыдущего эксперимента выберите метрику, которую вы будете использовать в этом эксперименте.\n",
    "\n",
    "Оцените по кросс-валидации с 3 фолдами точность (долю правильно предсказанных ответов) взвешенного алгоритма k ближайших соседей в зависимости от количество соседей k (от 1 до 10).\n",
    "\n",
    "Голос объекта положите равным `1 / (distance + eps)`, где `eps` = `1e-5`."
   ]
  },
  {
   "cell_type": "code",
   "execution_count": null,
   "metadata": {
    "scrolled": true
   },
   "outputs": [],
   "source": [
    "predicted = knn_cross_val_score(X_train, y_train, k_list=np.arange(1,11), cv=cv, scoring='accuracy',\n",
    "            metric='cosine', weights='distance', algorithm='my_own',batch_size = 1000)\n"
   ]
  },
  {
   "cell_type": "markdown",
   "metadata": {},
   "source": [
    "#### Нарисуйте график зависимости точности от количества соседей "
   ]
  },
  {
   "cell_type": "code",
   "execution_count": 35,
   "metadata": {},
   "outputs": [
    {
     "data": {
      "image/png": "[encoded data removed]",
      "text/plain": [
       "<Figure size 432x288 with 1 Axes>"
      ]
     },
     "metadata": {
      "needs_background": "light"
     },
     "output_type": "display_data"
    }
   ],
   "source": [
    "import matplotlib.pyplot as plt\n",
    "%matplotlib inline\n",
    "mean_socre = [] \n",
    "for k in np.arange(1,11):\n",
    "    mean_socre.append(np.mean(predicted[k]))\n",
    "\n",
    "    \n",
    "plt.plot(np.arange(1,11), mean_socre, label=\"Scores\")\n",
    "plt.legend(fontsize=20)\n",
    "plt.xlabel(\"# neiboughrs\", fontsize=20)\n",
    "plt.ylabel(\"score\", fontsize=20)\n",
    "plt.xticks(fontsize=18)\n",
    "_ = plt.yticks(fontsize=18)"
   ]
  },
  {
   "cell_type": "markdown",
   "metadata": {},
   "source": [
    "#### Ответьте на следующие вопросы"
   ]
  },
  {
   "cell_type": "markdown",
   "metadata": {},
   "source": [
    "1. По результатам эксперимента, какие гиперпараметры вы считаете наиболее оптимальными? Обоснуйте свой выбор.\n",
    "\n",
    "   По графику можно сделать, что лучший скор достигается при k = 4.При остальных k скор немного хуже                          \n"
   ]
  },
  {
   "cell_type": "markdown",
   "metadata": {},
   "source": [
    "2. Сравните результаты взвешенного алгоритма с невзвешенным. Объясните разницу/отсутствие разницы в результатах.\n",
    "\n",
    "   При использовании взвешенного алгоритма голосования, скор немного вырос. Возможно, это связано, что мы теперь при голосовании учитываем расстояние до объекта, похоже, что при классификации каких-то меток было больше, но они были дальше от объекта, чем истинные"
   ]
  },
  {
   "cell_type": "markdown",
   "metadata": {},
   "source": [
    "### 4. Применение алгоритма и интерпретация ошибок (3 балла)\n",
    "\n",
    "1. Примените лучший алгоритм к исходной обучающей и тестовой выборке и посчитайте точность классификации. Сравните с точностью по кросс-валидации. Опишите ваши результаты."
   ]
  },
  {
   "cell_type": "code",
   "execution_count": 19,
   "metadata": {},
   "outputs": [],
   "source": [
    "clf_myOwn = BatchedKNNClassifier(4, algorithm = 'my_own', metric = 'cosine',weights='distance',\n",
    "                                 batch_size = 1000)"
   ]
  },
  {
   "cell_type": "code",
   "execution_count": 20,
   "metadata": {},
   "outputs": [
    {
     "data": {
      "text/plain": [
       "<knn.classification.BatchedKNNClassifier at 0x7f4fa9adc310>"
      ]
     },
     "execution_count": 20,
     "metadata": {},
     "output_type": "execute_result"
    }
   ],
   "source": [
    "clf_myOwn.fit(X_train,y_train)"
   ]
  },
  {
   "cell_type": "code",
   "execution_count": null,
   "metadata": {},
   "outputs": [],
   "source": [
    "y_pred = clf_myOwn.predict(X_test)"
   ]
  },
  {
   "cell_type": "code",
   "execution_count": 22,
   "metadata": {},
   "outputs": [
    {
     "data": {
      "text/plain": [
       "0.9752"
      ]
     },
     "execution_count": 22,
     "metadata": {},
     "output_type": "execute_result"
    }
   ],
   "source": [
    "from sklearn.metrics import accuracy_score\n",
    "accuracy_score(y_test, y_pred)"
   ]
  },
  {
   "cell_type": "markdown",
   "metadata": {},
   "source": [
    "   Скор не снизился, по сравнению с кросс-валидацией, даже возрос немного. Значит, на кросс-валидации были подобраны оптимальные параметры"
   ]
  },
  {
   "cell_type": "markdown",
   "metadata": {},
   "source": [
    "2. Постройте и проанализируйте матрицу ошибок (confusion matrix), используйте функцию `sklearn.metrics.confusion_matrix`. Визуализируйте несколько объектов из тестовой выборки, на которых были допущены ошибки. Проанализируйте и укажите их общие черты."
   ]
  },
  {
   "cell_type": "code",
   "execution_count": 23,
   "metadata": {
    "scrolled": false
   },
   "outputs": [
    {
     "data": {
      "text/plain": [
       "array([[ 977,    1,    0,    0,    0,    0,    1,    1,    0,    0],\n",
       "       [   0, 1129,    3,    1,    0,    0,    2,    0,    0,    0],\n",
       "       [   8,    0, 1009,    1,    1,    0,    0,    8,    5,    0],\n",
       "       [   0,    1,    3,  976,    1,   12,    0,    4,    9,    4],\n",
       "       [   2,    1,    0,    0,  946,    0,    6,    2,    0,   25],\n",
       "       [   4,    0,    0,    9,    1,  863,    7,    1,    4,    3],\n",
       "       [   3,    3,    0,    0,    1,    3,  948,    0,    0,    0],\n",
       "       [   2,   10,    4,    0,    1,    0,    0,  998,    0,   13],\n",
       "       [   7,    1,    2,    9,    3,    3,    5,    4,  936,    4],\n",
       "       [   7,    7,    2,    5,    7,    3,    1,    4,    3,  970]])"
      ]
     },
     "execution_count": 23,
     "metadata": {},
     "output_type": "execute_result"
    }
   ],
   "source": [
    "from sklearn.metrics import confusion_matrix\n",
    "confusion_matrix(y_test, y_pred,labels = [0,1,2,3,4,5,6,7,8,9])"
   ]
  },
  {
   "cell_type": "markdown",
   "metadata": {},
   "source": [
    "Заметим, что большинство ошибок происходят на похожих цифрах, 0 путается с 8 и 9, 1 с 7, 3 с 5 и т.д."
   ]
  },
  {
   "cell_type": "code",
   "execution_count": 24,
   "metadata": {},
   "outputs": [],
   "source": [
    "errors = (y_pred != y_test)"
   ]
  },
  {
   "cell_type": "code",
   "execution_count": 26,
   "metadata": {
    "scrolled": true
   },
   "outputs": [
    {
     "data": {
      "image/png": "[encoded data removed]",
      "text/plain": [
       "<Figure size 1440x864 with 10 Axes>"
      ]
     },
     "metadata": {
      "needs_background": "light"
     },
     "output_type": "display_data"
    }
   ],
   "source": [
    "NUMBER_DIGITS = 10\n",
    "\n",
    "plt.figure(figsize=(20, 12))\n",
    "digits = X_test[errors][:NUMBER_DIGITS]\n",
    "for i, digit in enumerate(digits):\n",
    "    plt.subplot(1, len(digits), i + 1)\n",
    "    plt.imshow(digit.reshape(28, 28), cmap=plt.cm.gray_r, interpolation='nearest')"
   ]
  },
  {
   "cell_type": "markdown",
   "metadata": {},
   "source": [
    "Почем-то алгоритм плохо сработал на первых двух цифрах, хотя они вроде бы внятно нарисованы, а вот в отсальных даже человек, скорее всего, сделал бы ошибку. Некторые цифры нарисованы неаккуратно или так, что похожи на другие цифры"
   ]
  }
 ],
 "metadata": {
  "kernelspec": {
   "display_name": "Python 3",
   "language": "python",
   "name": "python3"
  },
  "language_info": {
   "codemirror_mode": {
    "name": "ipython",
    "version": 3
   },
   "file_extension": ".py",
   "mimetype": "text/x-python",
   "name": "python",
   "nbconvert_exporter": "python",
   "pygments_lexer": "ipython3",
   "version": "3.7.4"
  }
 },
 "nbformat": 4,
 "nbformat_minor": 4
}
